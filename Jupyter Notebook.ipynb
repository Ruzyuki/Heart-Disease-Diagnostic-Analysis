{
 "cells": [
  {
   "cell_type": "markdown",
   "id": "8f32814e",
   "metadata": {},
   "source": [
    "# *Heart Disease Diagnostic Analysis*"
   ]
  },
  {
   "cell_type": "markdown",
   "id": "15b9eb2c",
   "metadata": {},
   "source": [
    "Heart disease is a term covering any disorder of the heart. Heart diseases have become a major concern to deal with as studies show that the number of deaths due to heart diseases have increased significantly over the past few decades in India it has become the leading cause of death in India. A study shows that from 1990 to 2016 the death rate due to heart diseases have increased around 34% from 155.7 to 209.1 deaths per 1 lakh population in India. Thus, preventing heart diseases has become more than necessary. Good data-driven systems for predicting heart diseases can improve the entire research and prevention process, making sure that more people can live healthy lives."
   ]
  },
  {
   "cell_type": "code",
   "execution_count": 1,
   "id": "62fc06a0",
   "metadata": {},
   "outputs": [],
   "source": [
    "import pandas as pd\n",
    "import numpy as np\n",
    "import matplotlib.pyplot as plt\n",
    "import seaborn as sns"
   ]
  },
  {
   "cell_type": "markdown",
   "id": "b2f089af",
   "metadata": {},
   "source": [
    "Load Dataset"
   ]
  },
  {
   "cell_type": "code",
   "execution_count": 2,
   "id": "ecc1ae6c",
   "metadata": {},
   "outputs": [],
   "source": [
    "df=pd.read_csv(\"heart.csv\")"
   ]
  },
  {
   "cell_type": "code",
   "execution_count": 3,
   "id": "4d99075a",
   "metadata": {},
   "outputs": [
    {
     "data": {
      "text/html": [
       "<div>\n",
       "<style scoped>\n",
       "    .dataframe tbody tr th:only-of-type {\n",
       "        vertical-align: middle;\n",
       "    }\n",
       "\n",
       "    .dataframe tbody tr th {\n",
       "        vertical-align: top;\n",
       "    }\n",
       "\n",
       "    .dataframe thead th {\n",
       "        text-align: right;\n",
       "    }\n",
       "</style>\n",
       "<table border=\"1\" class=\"dataframe\">\n",
       "  <thead>\n",
       "    <tr style=\"text-align: right;\">\n",
       "      <th></th>\n",
       "      <th>age</th>\n",
       "      <th>sex</th>\n",
       "      <th>cp</th>\n",
       "      <th>trestbps</th>\n",
       "      <th>chol</th>\n",
       "      <th>fbs</th>\n",
       "      <th>restecg</th>\n",
       "      <th>thalach</th>\n",
       "      <th>exang</th>\n",
       "      <th>oldpeak</th>\n",
       "      <th>slope</th>\n",
       "      <th>ca</th>\n",
       "      <th>thal</th>\n",
       "      <th>target</th>\n",
       "    </tr>\n",
       "  </thead>\n",
       "  <tbody>\n",
       "    <tr>\n",
       "      <th>0</th>\n",
       "      <td>52</td>\n",
       "      <td>1</td>\n",
       "      <td>0</td>\n",
       "      <td>125</td>\n",
       "      <td>212</td>\n",
       "      <td>0</td>\n",
       "      <td>1</td>\n",
       "      <td>168</td>\n",
       "      <td>0</td>\n",
       "      <td>1.0</td>\n",
       "      <td>2</td>\n",
       "      <td>2</td>\n",
       "      <td>3</td>\n",
       "      <td>0</td>\n",
       "    </tr>\n",
       "    <tr>\n",
       "      <th>1</th>\n",
       "      <td>53</td>\n",
       "      <td>1</td>\n",
       "      <td>0</td>\n",
       "      <td>140</td>\n",
       "      <td>203</td>\n",
       "      <td>1</td>\n",
       "      <td>0</td>\n",
       "      <td>155</td>\n",
       "      <td>1</td>\n",
       "      <td>3.1</td>\n",
       "      <td>0</td>\n",
       "      <td>0</td>\n",
       "      <td>3</td>\n",
       "      <td>0</td>\n",
       "    </tr>\n",
       "    <tr>\n",
       "      <th>2</th>\n",
       "      <td>70</td>\n",
       "      <td>1</td>\n",
       "      <td>0</td>\n",
       "      <td>145</td>\n",
       "      <td>174</td>\n",
       "      <td>0</td>\n",
       "      <td>1</td>\n",
       "      <td>125</td>\n",
       "      <td>1</td>\n",
       "      <td>2.6</td>\n",
       "      <td>0</td>\n",
       "      <td>0</td>\n",
       "      <td>3</td>\n",
       "      <td>0</td>\n",
       "    </tr>\n",
       "    <tr>\n",
       "      <th>3</th>\n",
       "      <td>61</td>\n",
       "      <td>1</td>\n",
       "      <td>0</td>\n",
       "      <td>148</td>\n",
       "      <td>203</td>\n",
       "      <td>0</td>\n",
       "      <td>1</td>\n",
       "      <td>161</td>\n",
       "      <td>0</td>\n",
       "      <td>0.0</td>\n",
       "      <td>2</td>\n",
       "      <td>1</td>\n",
       "      <td>3</td>\n",
       "      <td>0</td>\n",
       "    </tr>\n",
       "    <tr>\n",
       "      <th>4</th>\n",
       "      <td>62</td>\n",
       "      <td>0</td>\n",
       "      <td>0</td>\n",
       "      <td>138</td>\n",
       "      <td>294</td>\n",
       "      <td>1</td>\n",
       "      <td>1</td>\n",
       "      <td>106</td>\n",
       "      <td>0</td>\n",
       "      <td>1.9</td>\n",
       "      <td>1</td>\n",
       "      <td>3</td>\n",
       "      <td>2</td>\n",
       "      <td>0</td>\n",
       "    </tr>\n",
       "  </tbody>\n",
       "</table>\n",
       "</div>"
      ],
      "text/plain": [
       "   age  sex  cp  trestbps  chol  fbs  restecg  thalach  exang  oldpeak  slope  \\\n",
       "0   52    1   0       125   212    0        1      168      0      1.0      2   \n",
       "1   53    1   0       140   203    1        0      155      1      3.1      0   \n",
       "2   70    1   0       145   174    0        1      125      1      2.6      0   \n",
       "3   61    1   0       148   203    0        1      161      0      0.0      2   \n",
       "4   62    0   0       138   294    1        1      106      0      1.9      1   \n",
       "\n",
       "   ca  thal  target  \n",
       "0   2     3       0  \n",
       "1   0     3       0  \n",
       "2   0     3       0  \n",
       "3   1     3       0  \n",
       "4   3     2       0  "
      ]
     },
     "execution_count": 3,
     "metadata": {},
     "output_type": "execute_result"
    }
   ],
   "source": [
    "df.head()"
   ]
  },
  {
   "cell_type": "code",
   "execution_count": 4,
   "id": "5b40c39f",
   "metadata": {},
   "outputs": [
    {
     "data": {
      "text/plain": [
       "(1025, 14)"
      ]
     },
     "execution_count": 4,
     "metadata": {},
     "output_type": "execute_result"
    }
   ],
   "source": [
    "df.shape"
   ]
  },
  {
   "cell_type": "code",
   "execution_count": 5,
   "id": "52c6fe69",
   "metadata": {},
   "outputs": [
    {
     "name": "stdout",
     "output_type": "stream",
     "text": [
      "<class 'pandas.core.frame.DataFrame'>\n",
      "RangeIndex: 1025 entries, 0 to 1024\n",
      "Data columns (total 14 columns):\n",
      " #   Column    Non-Null Count  Dtype  \n",
      "---  ------    --------------  -----  \n",
      " 0   age       1025 non-null   int64  \n",
      " 1   sex       1025 non-null   int64  \n",
      " 2   cp        1025 non-null   int64  \n",
      " 3   trestbps  1025 non-null   int64  \n",
      " 4   chol      1025 non-null   int64  \n",
      " 5   fbs       1025 non-null   int64  \n",
      " 6   restecg   1025 non-null   int64  \n",
      " 7   thalach   1025 non-null   int64  \n",
      " 8   exang     1025 non-null   int64  \n",
      " 9   oldpeak   1025 non-null   float64\n",
      " 10  slope     1025 non-null   int64  \n",
      " 11  ca        1025 non-null   int64  \n",
      " 12  thal      1025 non-null   int64  \n",
      " 13  target    1025 non-null   int64  \n",
      "dtypes: float64(1), int64(13)\n",
      "memory usage: 112.2 KB\n"
     ]
    }
   ],
   "source": [
    "df.info()"
   ]
  },
  {
   "cell_type": "markdown",
   "id": "799c37cf",
   "metadata": {},
   "source": [
    "ATTRIBUTES\n",
    "There are thirteen features in Dataset\n",
    "\n",
    "age: The person's age in years\n",
    "\n",
    "sex: The person's sex (1 = male, 0 = female)\n",
    "\n",
    "cp: The chest pain experienced (Value 1: typical angina, Value 2: atypical angina, Value 3: non-anginal pain, Value 4: asymptomatic)\n",
    "\n",
    "trestbps: The person's resting blood pressure (mm/Hg on admission to the hospital)\n",
    "\n",
    "chol: The person's cholesterol measurement in mg/dl\n",
    "\n",
    "fbs: The person's fasting blood sugar (> 120 mg/dl, 1 = true; 0 = false)\n",
    "\n",
    "restecg: Resting electrocardiographic measurement (0 = normal, 1 = having ST-T wave abnormality, 2 = showing probable or definite left ventricular hypertrophy by Estes' criteria)\n",
    "\n",
    "thalach: The person's maximum heart rate achieved\n",
    "\n",
    "exang: Exercise induced angina (1 = yes; 0 = no)\n",
    "\n",
    "oldpeak: ST depression induced by exercise relative to rest\n",
    "\n",
    "slope: the slope of the peak exercise ST segment (Value 2: upsloping, Value 1: flat, Value 0: downsloping)\n",
    "\n",
    "ca: The number of major vessels (0-3)\n",
    "\n",
    "thal: A blood disorder called thalassemia (3 = normal; 6 = fixed defect; 7 = reversable defectt)\n",
    "\n",
    "num: Heart disease (0 = no, 1 = yes)"
   ]
  },
  {
   "cell_type": "code",
   "execution_count": 6,
   "id": "3be8e13f",
   "metadata": {},
   "outputs": [
    {
     "data": {
      "text/plain": [
       "age         0\n",
       "sex         0\n",
       "cp          0\n",
       "trestbps    0\n",
       "chol        0\n",
       "fbs         0\n",
       "restecg     0\n",
       "thalach     0\n",
       "exang       0\n",
       "oldpeak     0\n",
       "slope       0\n",
       "ca          0\n",
       "thal        0\n",
       "target      0\n",
       "dtype: int64"
      ]
     },
     "execution_count": 6,
     "metadata": {},
     "output_type": "execute_result"
    }
   ],
   "source": [
    "df.isnull().sum()"
   ]
  },
  {
   "cell_type": "markdown",
   "id": "37963540",
   "metadata": {},
   "source": [
    "\n",
    "Describing the basic statistics of the data."
   ]
  },
  {
   "cell_type": "code",
   "execution_count": 7,
   "id": "3eed4924",
   "metadata": {},
   "outputs": [
    {
     "data": {
      "text/html": [
       "<div>\n",
       "<style scoped>\n",
       "    .dataframe tbody tr th:only-of-type {\n",
       "        vertical-align: middle;\n",
       "    }\n",
       "\n",
       "    .dataframe tbody tr th {\n",
       "        vertical-align: top;\n",
       "    }\n",
       "\n",
       "    .dataframe thead th {\n",
       "        text-align: right;\n",
       "    }\n",
       "</style>\n",
       "<table border=\"1\" class=\"dataframe\">\n",
       "  <thead>\n",
       "    <tr style=\"text-align: right;\">\n",
       "      <th></th>\n",
       "      <th>age</th>\n",
       "      <th>sex</th>\n",
       "      <th>cp</th>\n",
       "      <th>trestbps</th>\n",
       "      <th>chol</th>\n",
       "      <th>fbs</th>\n",
       "      <th>restecg</th>\n",
       "      <th>thalach</th>\n",
       "      <th>exang</th>\n",
       "      <th>oldpeak</th>\n",
       "      <th>slope</th>\n",
       "      <th>ca</th>\n",
       "      <th>thal</th>\n",
       "      <th>target</th>\n",
       "    </tr>\n",
       "  </thead>\n",
       "  <tbody>\n",
       "    <tr>\n",
       "      <th>count</th>\n",
       "      <td>1025.000000</td>\n",
       "      <td>1025.000000</td>\n",
       "      <td>1025.000000</td>\n",
       "      <td>1025.000000</td>\n",
       "      <td>1025.00000</td>\n",
       "      <td>1025.000000</td>\n",
       "      <td>1025.000000</td>\n",
       "      <td>1025.000000</td>\n",
       "      <td>1025.000000</td>\n",
       "      <td>1025.000000</td>\n",
       "      <td>1025.000000</td>\n",
       "      <td>1025.000000</td>\n",
       "      <td>1025.000000</td>\n",
       "      <td>1025.000000</td>\n",
       "    </tr>\n",
       "    <tr>\n",
       "      <th>mean</th>\n",
       "      <td>54.434146</td>\n",
       "      <td>0.695610</td>\n",
       "      <td>0.942439</td>\n",
       "      <td>131.611707</td>\n",
       "      <td>246.00000</td>\n",
       "      <td>0.149268</td>\n",
       "      <td>0.529756</td>\n",
       "      <td>149.114146</td>\n",
       "      <td>0.336585</td>\n",
       "      <td>1.071512</td>\n",
       "      <td>1.385366</td>\n",
       "      <td>0.754146</td>\n",
       "      <td>2.323902</td>\n",
       "      <td>0.513171</td>\n",
       "    </tr>\n",
       "    <tr>\n",
       "      <th>std</th>\n",
       "      <td>9.072290</td>\n",
       "      <td>0.460373</td>\n",
       "      <td>1.029641</td>\n",
       "      <td>17.516718</td>\n",
       "      <td>51.59251</td>\n",
       "      <td>0.356527</td>\n",
       "      <td>0.527878</td>\n",
       "      <td>23.005724</td>\n",
       "      <td>0.472772</td>\n",
       "      <td>1.175053</td>\n",
       "      <td>0.617755</td>\n",
       "      <td>1.030798</td>\n",
       "      <td>0.620660</td>\n",
       "      <td>0.500070</td>\n",
       "    </tr>\n",
       "    <tr>\n",
       "      <th>min</th>\n",
       "      <td>29.000000</td>\n",
       "      <td>0.000000</td>\n",
       "      <td>0.000000</td>\n",
       "      <td>94.000000</td>\n",
       "      <td>126.00000</td>\n",
       "      <td>0.000000</td>\n",
       "      <td>0.000000</td>\n",
       "      <td>71.000000</td>\n",
       "      <td>0.000000</td>\n",
       "      <td>0.000000</td>\n",
       "      <td>0.000000</td>\n",
       "      <td>0.000000</td>\n",
       "      <td>0.000000</td>\n",
       "      <td>0.000000</td>\n",
       "    </tr>\n",
       "    <tr>\n",
       "      <th>25%</th>\n",
       "      <td>48.000000</td>\n",
       "      <td>0.000000</td>\n",
       "      <td>0.000000</td>\n",
       "      <td>120.000000</td>\n",
       "      <td>211.00000</td>\n",
       "      <td>0.000000</td>\n",
       "      <td>0.000000</td>\n",
       "      <td>132.000000</td>\n",
       "      <td>0.000000</td>\n",
       "      <td>0.000000</td>\n",
       "      <td>1.000000</td>\n",
       "      <td>0.000000</td>\n",
       "      <td>2.000000</td>\n",
       "      <td>0.000000</td>\n",
       "    </tr>\n",
       "    <tr>\n",
       "      <th>50%</th>\n",
       "      <td>56.000000</td>\n",
       "      <td>1.000000</td>\n",
       "      <td>1.000000</td>\n",
       "      <td>130.000000</td>\n",
       "      <td>240.00000</td>\n",
       "      <td>0.000000</td>\n",
       "      <td>1.000000</td>\n",
       "      <td>152.000000</td>\n",
       "      <td>0.000000</td>\n",
       "      <td>0.800000</td>\n",
       "      <td>1.000000</td>\n",
       "      <td>0.000000</td>\n",
       "      <td>2.000000</td>\n",
       "      <td>1.000000</td>\n",
       "    </tr>\n",
       "    <tr>\n",
       "      <th>75%</th>\n",
       "      <td>61.000000</td>\n",
       "      <td>1.000000</td>\n",
       "      <td>2.000000</td>\n",
       "      <td>140.000000</td>\n",
       "      <td>275.00000</td>\n",
       "      <td>0.000000</td>\n",
       "      <td>1.000000</td>\n",
       "      <td>166.000000</td>\n",
       "      <td>1.000000</td>\n",
       "      <td>1.800000</td>\n",
       "      <td>2.000000</td>\n",
       "      <td>1.000000</td>\n",
       "      <td>3.000000</td>\n",
       "      <td>1.000000</td>\n",
       "    </tr>\n",
       "    <tr>\n",
       "      <th>max</th>\n",
       "      <td>77.000000</td>\n",
       "      <td>1.000000</td>\n",
       "      <td>3.000000</td>\n",
       "      <td>200.000000</td>\n",
       "      <td>564.00000</td>\n",
       "      <td>1.000000</td>\n",
       "      <td>2.000000</td>\n",
       "      <td>202.000000</td>\n",
       "      <td>1.000000</td>\n",
       "      <td>6.200000</td>\n",
       "      <td>2.000000</td>\n",
       "      <td>4.000000</td>\n",
       "      <td>3.000000</td>\n",
       "      <td>1.000000</td>\n",
       "    </tr>\n",
       "  </tbody>\n",
       "</table>\n",
       "</div>"
      ],
      "text/plain": [
       "               age          sex           cp     trestbps        chol  \\\n",
       "count  1025.000000  1025.000000  1025.000000  1025.000000  1025.00000   \n",
       "mean     54.434146     0.695610     0.942439   131.611707   246.00000   \n",
       "std       9.072290     0.460373     1.029641    17.516718    51.59251   \n",
       "min      29.000000     0.000000     0.000000    94.000000   126.00000   \n",
       "25%      48.000000     0.000000     0.000000   120.000000   211.00000   \n",
       "50%      56.000000     1.000000     1.000000   130.000000   240.00000   \n",
       "75%      61.000000     1.000000     2.000000   140.000000   275.00000   \n",
       "max      77.000000     1.000000     3.000000   200.000000   564.00000   \n",
       "\n",
       "               fbs      restecg      thalach        exang      oldpeak  \\\n",
       "count  1025.000000  1025.000000  1025.000000  1025.000000  1025.000000   \n",
       "mean      0.149268     0.529756   149.114146     0.336585     1.071512   \n",
       "std       0.356527     0.527878    23.005724     0.472772     1.175053   \n",
       "min       0.000000     0.000000    71.000000     0.000000     0.000000   \n",
       "25%       0.000000     0.000000   132.000000     0.000000     0.000000   \n",
       "50%       0.000000     1.000000   152.000000     0.000000     0.800000   \n",
       "75%       0.000000     1.000000   166.000000     1.000000     1.800000   \n",
       "max       1.000000     2.000000   202.000000     1.000000     6.200000   \n",
       "\n",
       "             slope           ca         thal       target  \n",
       "count  1025.000000  1025.000000  1025.000000  1025.000000  \n",
       "mean      1.385366     0.754146     2.323902     0.513171  \n",
       "std       0.617755     1.030798     0.620660     0.500070  \n",
       "min       0.000000     0.000000     0.000000     0.000000  \n",
       "25%       1.000000     0.000000     2.000000     0.000000  \n",
       "50%       1.000000     0.000000     2.000000     1.000000  \n",
       "75%       2.000000     1.000000     3.000000     1.000000  \n",
       "max       2.000000     4.000000     3.000000     1.000000  "
      ]
     },
     "execution_count": 7,
     "metadata": {},
     "output_type": "execute_result"
    }
   ],
   "source": [
    "df.describe()"
   ]
  },
  {
   "cell_type": "code",
   "execution_count": 8,
   "id": "8963ad16",
   "metadata": {},
   "outputs": [
    {
     "data": {
      "text/plain": [
       "age          41\n",
       "sex           2\n",
       "cp            4\n",
       "trestbps     49\n",
       "chol        152\n",
       "fbs           2\n",
       "restecg       3\n",
       "thalach      91\n",
       "exang         2\n",
       "oldpeak      40\n",
       "slope         3\n",
       "ca            5\n",
       "thal          4\n",
       "target        2\n",
       "dtype: int64"
      ]
     },
     "execution_count": 8,
     "metadata": {},
     "output_type": "execute_result"
    }
   ],
   "source": [
    "df.nunique()"
   ]
  },
  {
   "cell_type": "markdown",
   "id": "f746ebf3",
   "metadata": {},
   "source": [
    "Checking Unique Values In CA"
   ]
  },
  {
   "cell_type": "code",
   "execution_count": 9,
   "id": "9bf7ec7a",
   "metadata": {},
   "outputs": [
    {
     "data": {
      "text/plain": [
       "0    578\n",
       "1    226\n",
       "2    134\n",
       "3     69\n",
       "4     18\n",
       "Name: ca, dtype: int64"
      ]
     },
     "execution_count": 9,
     "metadata": {},
     "output_type": "execute_result"
    }
   ],
   "source": [
    "df['ca'].value_counts()"
   ]
  },
  {
   "cell_type": "markdown",
   "id": "c24e749b",
   "metadata": {},
   "source": [
    "In \"ca\" there should be 4 values.The number of major vessels (0-3).Changing 5th Value to NAN."
   ]
  },
  {
   "cell_type": "code",
   "execution_count": 10,
   "id": "5fdd5fee",
   "metadata": {},
   "outputs": [],
   "source": [
    "df.loc[df['ca']==4,'ca']= np.NaN"
   ]
  },
  {
   "cell_type": "code",
   "execution_count": 11,
   "id": "cc5520c6",
   "metadata": {},
   "outputs": [
    {
     "data": {
      "text/plain": [
       "0.0    578\n",
       "1.0    226\n",
       "2.0    134\n",
       "3.0     69\n",
       "Name: ca, dtype: int64"
      ]
     },
     "execution_count": 11,
     "metadata": {},
     "output_type": "execute_result"
    }
   ],
   "source": [
    "df['ca'].value_counts()"
   ]
  },
  {
   "cell_type": "markdown",
   "id": "6bb07c58",
   "metadata": {},
   "source": [
    "CHECKING UNIQUE VALUES IN thal"
   ]
  },
  {
   "cell_type": "code",
   "execution_count": 12,
   "id": "c4db64eb",
   "metadata": {},
   "outputs": [
    {
     "data": {
      "text/plain": [
       "2    544\n",
       "3    410\n",
       "1     64\n",
       "0      7\n",
       "Name: thal, dtype: int64"
      ]
     },
     "execution_count": 12,
     "metadata": {},
     "output_type": "execute_result"
    }
   ],
   "source": [
    "df['thal'].value_counts()"
   ]
  },
  {
   "cell_type": "markdown",
   "id": "1908fe3c",
   "metadata": {},
   "source": [
    "same as \"ca\" in \"thal\" we have 4 values but according to given information we have 3 so changing 4th value to nan"
   ]
  },
  {
   "cell_type": "code",
   "execution_count": 13,
   "id": "554757ca",
   "metadata": {},
   "outputs": [
    {
     "data": {
      "text/html": [
       "<div>\n",
       "<style scoped>\n",
       "    .dataframe tbody tr th:only-of-type {\n",
       "        vertical-align: middle;\n",
       "    }\n",
       "\n",
       "    .dataframe tbody tr th {\n",
       "        vertical-align: top;\n",
       "    }\n",
       "\n",
       "    .dataframe thead th {\n",
       "        text-align: right;\n",
       "    }\n",
       "</style>\n",
       "<table border=\"1\" class=\"dataframe\">\n",
       "  <thead>\n",
       "    <tr style=\"text-align: right;\">\n",
       "      <th></th>\n",
       "      <th>age</th>\n",
       "      <th>sex</th>\n",
       "      <th>cp</th>\n",
       "      <th>trestbps</th>\n",
       "      <th>chol</th>\n",
       "      <th>fbs</th>\n",
       "      <th>restecg</th>\n",
       "      <th>thalach</th>\n",
       "      <th>exang</th>\n",
       "      <th>oldpeak</th>\n",
       "      <th>slope</th>\n",
       "      <th>ca</th>\n",
       "      <th>thal</th>\n",
       "      <th>target</th>\n",
       "    </tr>\n",
       "  </thead>\n",
       "  <tbody>\n",
       "    <tr>\n",
       "      <th>14</th>\n",
       "      <td>52</td>\n",
       "      <td>1</td>\n",
       "      <td>0</td>\n",
       "      <td>128</td>\n",
       "      <td>204</td>\n",
       "      <td>1</td>\n",
       "      <td>1</td>\n",
       "      <td>156</td>\n",
       "      <td>1</td>\n",
       "      <td>1.0</td>\n",
       "      <td>1</td>\n",
       "      <td>0.0</td>\n",
       "      <td>0</td>\n",
       "      <td>0</td>\n",
       "    </tr>\n",
       "    <tr>\n",
       "      <th>319</th>\n",
       "      <td>53</td>\n",
       "      <td>0</td>\n",
       "      <td>2</td>\n",
       "      <td>128</td>\n",
       "      <td>216</td>\n",
       "      <td>0</td>\n",
       "      <td>0</td>\n",
       "      <td>115</td>\n",
       "      <td>0</td>\n",
       "      <td>0.0</td>\n",
       "      <td>2</td>\n",
       "      <td>0.0</td>\n",
       "      <td>0</td>\n",
       "      <td>1</td>\n",
       "    </tr>\n",
       "    <tr>\n",
       "      <th>329</th>\n",
       "      <td>53</td>\n",
       "      <td>0</td>\n",
       "      <td>2</td>\n",
       "      <td>128</td>\n",
       "      <td>216</td>\n",
       "      <td>0</td>\n",
       "      <td>0</td>\n",
       "      <td>115</td>\n",
       "      <td>0</td>\n",
       "      <td>0.0</td>\n",
       "      <td>2</td>\n",
       "      <td>0.0</td>\n",
       "      <td>0</td>\n",
       "      <td>1</td>\n",
       "    </tr>\n",
       "    <tr>\n",
       "      <th>359</th>\n",
       "      <td>53</td>\n",
       "      <td>0</td>\n",
       "      <td>2</td>\n",
       "      <td>128</td>\n",
       "      <td>216</td>\n",
       "      <td>0</td>\n",
       "      <td>0</td>\n",
       "      <td>115</td>\n",
       "      <td>0</td>\n",
       "      <td>0.0</td>\n",
       "      <td>2</td>\n",
       "      <td>0.0</td>\n",
       "      <td>0</td>\n",
       "      <td>1</td>\n",
       "    </tr>\n",
       "    <tr>\n",
       "      <th>686</th>\n",
       "      <td>52</td>\n",
       "      <td>1</td>\n",
       "      <td>0</td>\n",
       "      <td>128</td>\n",
       "      <td>204</td>\n",
       "      <td>1</td>\n",
       "      <td>1</td>\n",
       "      <td>156</td>\n",
       "      <td>1</td>\n",
       "      <td>1.0</td>\n",
       "      <td>1</td>\n",
       "      <td>0.0</td>\n",
       "      <td>0</td>\n",
       "      <td>0</td>\n",
       "    </tr>\n",
       "    <tr>\n",
       "      <th>734</th>\n",
       "      <td>52</td>\n",
       "      <td>1</td>\n",
       "      <td>0</td>\n",
       "      <td>128</td>\n",
       "      <td>204</td>\n",
       "      <td>1</td>\n",
       "      <td>1</td>\n",
       "      <td>156</td>\n",
       "      <td>1</td>\n",
       "      <td>1.0</td>\n",
       "      <td>1</td>\n",
       "      <td>0.0</td>\n",
       "      <td>0</td>\n",
       "      <td>0</td>\n",
       "    </tr>\n",
       "    <tr>\n",
       "      <th>893</th>\n",
       "      <td>52</td>\n",
       "      <td>1</td>\n",
       "      <td>0</td>\n",
       "      <td>128</td>\n",
       "      <td>204</td>\n",
       "      <td>1</td>\n",
       "      <td>1</td>\n",
       "      <td>156</td>\n",
       "      <td>1</td>\n",
       "      <td>1.0</td>\n",
       "      <td>1</td>\n",
       "      <td>0.0</td>\n",
       "      <td>0</td>\n",
       "      <td>0</td>\n",
       "    </tr>\n",
       "  </tbody>\n",
       "</table>\n",
       "</div>"
      ],
      "text/plain": [
       "     age  sex  cp  trestbps  chol  fbs  restecg  thalach  exang  oldpeak  \\\n",
       "14    52    1   0       128   204    1        1      156      1      1.0   \n",
       "319   53    0   2       128   216    0        0      115      0      0.0   \n",
       "329   53    0   2       128   216    0        0      115      0      0.0   \n",
       "359   53    0   2       128   216    0        0      115      0      0.0   \n",
       "686   52    1   0       128   204    1        1      156      1      1.0   \n",
       "734   52    1   0       128   204    1        1      156      1      1.0   \n",
       "893   52    1   0       128   204    1        1      156      1      1.0   \n",
       "\n",
       "     slope   ca  thal  target  \n",
       "14       1  0.0     0       0  \n",
       "319      2  0.0     0       1  \n",
       "329      2  0.0     0       1  \n",
       "359      2  0.0     0       1  \n",
       "686      1  0.0     0       0  \n",
       "734      1  0.0     0       0  \n",
       "893      1  0.0     0       0  "
      ]
     },
     "execution_count": 13,
     "metadata": {},
     "output_type": "execute_result"
    }
   ],
   "source": [
    "df[df['thal']==0]"
   ]
  },
  {
   "cell_type": "code",
   "execution_count": 14,
   "id": "85a6b21b",
   "metadata": {},
   "outputs": [],
   "source": [
    "df.loc[df['thal']== 0,'thal']= np.NaN"
   ]
  },
  {
   "cell_type": "code",
   "execution_count": 15,
   "id": "63d4caf5",
   "metadata": {},
   "outputs": [
    {
     "data": {
      "text/plain": [
       "2.0    544\n",
       "3.0    410\n",
       "1.0     64\n",
       "Name: thal, dtype: int64"
      ]
     },
     "execution_count": 15,
     "metadata": {},
     "output_type": "execute_result"
    }
   ],
   "source": [
    "df['thal'].value_counts()"
   ]
  },
  {
   "cell_type": "code",
   "execution_count": 16,
   "id": "3b8a145d",
   "metadata": {},
   "outputs": [
    {
     "data": {
      "text/plain": [
       "age          0\n",
       "sex          0\n",
       "cp           0\n",
       "trestbps     0\n",
       "chol         0\n",
       "fbs          0\n",
       "restecg      0\n",
       "thalach      0\n",
       "exang        0\n",
       "oldpeak      0\n",
       "slope        0\n",
       "ca          18\n",
       "thal         7\n",
       "target       0\n",
       "dtype: int64"
      ]
     },
     "execution_count": 16,
     "metadata": {},
     "output_type": "execute_result"
    }
   ],
   "source": [
    "df.isnull().sum()"
   ]
  },
  {
   "cell_type": "markdown",
   "id": "77420c82",
   "metadata": {},
   "source": [
    "We changed invalid values in \"ca\" and \"thal\" with nan. Now we have NaN values in it.So we replace it with median"
   ]
  },
  {
   "cell_type": "code",
   "execution_count": 17,
   "id": "f7eb6cea",
   "metadata": {},
   "outputs": [],
   "source": [
    "df= df.fillna(df.median())"
   ]
  },
  {
   "cell_type": "code",
   "execution_count": 18,
   "id": "2af09097",
   "metadata": {},
   "outputs": [
    {
     "data": {
      "text/plain": [
       "age         0\n",
       "sex         0\n",
       "cp          0\n",
       "trestbps    0\n",
       "chol        0\n",
       "fbs         0\n",
       "restecg     0\n",
       "thalach     0\n",
       "exang       0\n",
       "oldpeak     0\n",
       "slope       0\n",
       "ca          0\n",
       "thal        0\n",
       "target      0\n",
       "dtype: int64"
      ]
     },
     "execution_count": 18,
     "metadata": {},
     "output_type": "execute_result"
    }
   ],
   "source": [
    "df.isnull().sum()"
   ]
  },
  {
   "cell_type": "code",
   "execution_count": 19,
   "id": "fd1f51c4",
   "metadata": {},
   "outputs": [
    {
     "data": {
      "text/plain": [
       "array([3., 2., 1.])"
      ]
     },
     "execution_count": 19,
     "metadata": {},
     "output_type": "execute_result"
    }
   ],
   "source": [
    "df['thal'].unique()"
   ]
  },
  {
   "cell_type": "markdown",
   "id": "584150d9",
   "metadata": {},
   "source": [
    "HERE WE ARE CHANGING NUMERICAL VARIABLES INTO CATEGORICAL VALUES FOR EASY VISUALIZATION"
   ]
  },
  {
   "cell_type": "code",
   "execution_count": 20,
   "id": "fcd49360",
   "metadata": {},
   "outputs": [
    {
     "data": {
      "text/html": [
       "<div>\n",
       "<style scoped>\n",
       "    .dataframe tbody tr th:only-of-type {\n",
       "        vertical-align: middle;\n",
       "    }\n",
       "\n",
       "    .dataframe tbody tr th {\n",
       "        vertical-align: top;\n",
       "    }\n",
       "\n",
       "    .dataframe thead th {\n",
       "        text-align: right;\n",
       "    }\n",
       "</style>\n",
       "<table border=\"1\" class=\"dataframe\">\n",
       "  <thead>\n",
       "    <tr style=\"text-align: right;\">\n",
       "      <th></th>\n",
       "      <th>age</th>\n",
       "      <th>sex</th>\n",
       "      <th>cp</th>\n",
       "      <th>trestbps</th>\n",
       "      <th>chol</th>\n",
       "      <th>fbs</th>\n",
       "      <th>restecg</th>\n",
       "      <th>thalach</th>\n",
       "      <th>exang</th>\n",
       "      <th>oldpeak</th>\n",
       "      <th>slope</th>\n",
       "      <th>ca</th>\n",
       "      <th>thal</th>\n",
       "      <th>target</th>\n",
       "    </tr>\n",
       "  </thead>\n",
       "  <tbody>\n",
       "    <tr>\n",
       "      <th>0</th>\n",
       "      <td>52</td>\n",
       "      <td>1</td>\n",
       "      <td>0</td>\n",
       "      <td>125</td>\n",
       "      <td>212</td>\n",
       "      <td>0</td>\n",
       "      <td>1</td>\n",
       "      <td>168</td>\n",
       "      <td>0</td>\n",
       "      <td>1.0</td>\n",
       "      <td>2</td>\n",
       "      <td>2.0</td>\n",
       "      <td>3.0</td>\n",
       "      <td>0</td>\n",
       "    </tr>\n",
       "    <tr>\n",
       "      <th>1</th>\n",
       "      <td>53</td>\n",
       "      <td>1</td>\n",
       "      <td>0</td>\n",
       "      <td>140</td>\n",
       "      <td>203</td>\n",
       "      <td>1</td>\n",
       "      <td>0</td>\n",
       "      <td>155</td>\n",
       "      <td>1</td>\n",
       "      <td>3.1</td>\n",
       "      <td>0</td>\n",
       "      <td>0.0</td>\n",
       "      <td>3.0</td>\n",
       "      <td>0</td>\n",
       "    </tr>\n",
       "    <tr>\n",
       "      <th>2</th>\n",
       "      <td>70</td>\n",
       "      <td>1</td>\n",
       "      <td>0</td>\n",
       "      <td>145</td>\n",
       "      <td>174</td>\n",
       "      <td>0</td>\n",
       "      <td>1</td>\n",
       "      <td>125</td>\n",
       "      <td>1</td>\n",
       "      <td>2.6</td>\n",
       "      <td>0</td>\n",
       "      <td>0.0</td>\n",
       "      <td>3.0</td>\n",
       "      <td>0</td>\n",
       "    </tr>\n",
       "    <tr>\n",
       "      <th>3</th>\n",
       "      <td>61</td>\n",
       "      <td>1</td>\n",
       "      <td>0</td>\n",
       "      <td>148</td>\n",
       "      <td>203</td>\n",
       "      <td>0</td>\n",
       "      <td>1</td>\n",
       "      <td>161</td>\n",
       "      <td>0</td>\n",
       "      <td>0.0</td>\n",
       "      <td>2</td>\n",
       "      <td>1.0</td>\n",
       "      <td>3.0</td>\n",
       "      <td>0</td>\n",
       "    </tr>\n",
       "    <tr>\n",
       "      <th>4</th>\n",
       "      <td>62</td>\n",
       "      <td>0</td>\n",
       "      <td>0</td>\n",
       "      <td>138</td>\n",
       "      <td>294</td>\n",
       "      <td>1</td>\n",
       "      <td>1</td>\n",
       "      <td>106</td>\n",
       "      <td>0</td>\n",
       "      <td>1.9</td>\n",
       "      <td>1</td>\n",
       "      <td>3.0</td>\n",
       "      <td>2.0</td>\n",
       "      <td>0</td>\n",
       "    </tr>\n",
       "  </tbody>\n",
       "</table>\n",
       "</div>"
      ],
      "text/plain": [
       "   age  sex  cp  trestbps  chol  fbs  restecg  thalach  exang  oldpeak  slope  \\\n",
       "0   52    1   0       125   212    0        1      168      0      1.0      2   \n",
       "1   53    1   0       140   203    1        0      155      1      3.1      0   \n",
       "2   70    1   0       145   174    0        1      125      1      2.6      0   \n",
       "3   61    1   0       148   203    0        1      161      0      0.0      2   \n",
       "4   62    0   0       138   294    1        1      106      0      1.9      1   \n",
       "\n",
       "    ca  thal  target  \n",
       "0  2.0   3.0       0  \n",
       "1  0.0   3.0       0  \n",
       "2  0.0   3.0       0  \n",
       "3  1.0   3.0       0  \n",
       "4  3.0   2.0       0  "
      ]
     },
     "execution_count": 20,
     "metadata": {},
     "output_type": "execute_result"
    }
   ],
   "source": [
    "df.head()"
   ]
  },
  {
   "cell_type": "code",
   "execution_count": 21,
   "id": "7b49961d",
   "metadata": {},
   "outputs": [],
   "source": [
    "df['target'] = df.target.replace({1: \"Disease\", 0: \"No_disease\"})\n",
    "df['sex'] = df.sex.replace({1: \"Male\", 0: \"Female\"})\n",
    "df['cp'] = df.cp.replace({1: \"typical_angina\", \n",
    "                          2: \"atypical_angina\", \n",
    "                          3:\"non-anginal pain\",\n",
    "                          4: \"asymtomatic\"})\n",
    "df['slope'] = df.slope.replace({1: \"upsloping\", 2: \"flat\",3:\"downsloping\"})\n",
    "df['thal'] = df.thal.replace({6: \"fixed_defect\", 3: \"reversable_defect\", 7:\"normal\"})"
   ]
  },
  {
   "cell_type": "code",
   "execution_count": 22,
   "id": "b72b4d05",
   "metadata": {},
   "outputs": [
    {
     "data": {
      "text/html": [
       "<div>\n",
       "<style scoped>\n",
       "    .dataframe tbody tr th:only-of-type {\n",
       "        vertical-align: middle;\n",
       "    }\n",
       "\n",
       "    .dataframe tbody tr th {\n",
       "        vertical-align: top;\n",
       "    }\n",
       "\n",
       "    .dataframe thead th {\n",
       "        text-align: right;\n",
       "    }\n",
       "</style>\n",
       "<table border=\"1\" class=\"dataframe\">\n",
       "  <thead>\n",
       "    <tr style=\"text-align: right;\">\n",
       "      <th></th>\n",
       "      <th>age</th>\n",
       "      <th>sex</th>\n",
       "      <th>cp</th>\n",
       "      <th>trestbps</th>\n",
       "      <th>chol</th>\n",
       "      <th>fbs</th>\n",
       "      <th>restecg</th>\n",
       "      <th>thalach</th>\n",
       "      <th>exang</th>\n",
       "      <th>oldpeak</th>\n",
       "      <th>slope</th>\n",
       "      <th>ca</th>\n",
       "      <th>thal</th>\n",
       "      <th>target</th>\n",
       "    </tr>\n",
       "  </thead>\n",
       "  <tbody>\n",
       "    <tr>\n",
       "      <th>0</th>\n",
       "      <td>52</td>\n",
       "      <td>Male</td>\n",
       "      <td>0</td>\n",
       "      <td>125</td>\n",
       "      <td>212</td>\n",
       "      <td>0</td>\n",
       "      <td>1</td>\n",
       "      <td>168</td>\n",
       "      <td>0</td>\n",
       "      <td>1.0</td>\n",
       "      <td>flat</td>\n",
       "      <td>2.0</td>\n",
       "      <td>reversable_defect</td>\n",
       "      <td>No_disease</td>\n",
       "    </tr>\n",
       "    <tr>\n",
       "      <th>1</th>\n",
       "      <td>53</td>\n",
       "      <td>Male</td>\n",
       "      <td>0</td>\n",
       "      <td>140</td>\n",
       "      <td>203</td>\n",
       "      <td>1</td>\n",
       "      <td>0</td>\n",
       "      <td>155</td>\n",
       "      <td>1</td>\n",
       "      <td>3.1</td>\n",
       "      <td>0</td>\n",
       "      <td>0.0</td>\n",
       "      <td>reversable_defect</td>\n",
       "      <td>No_disease</td>\n",
       "    </tr>\n",
       "    <tr>\n",
       "      <th>2</th>\n",
       "      <td>70</td>\n",
       "      <td>Male</td>\n",
       "      <td>0</td>\n",
       "      <td>145</td>\n",
       "      <td>174</td>\n",
       "      <td>0</td>\n",
       "      <td>1</td>\n",
       "      <td>125</td>\n",
       "      <td>1</td>\n",
       "      <td>2.6</td>\n",
       "      <td>0</td>\n",
       "      <td>0.0</td>\n",
       "      <td>reversable_defect</td>\n",
       "      <td>No_disease</td>\n",
       "    </tr>\n",
       "    <tr>\n",
       "      <th>3</th>\n",
       "      <td>61</td>\n",
       "      <td>Male</td>\n",
       "      <td>0</td>\n",
       "      <td>148</td>\n",
       "      <td>203</td>\n",
       "      <td>0</td>\n",
       "      <td>1</td>\n",
       "      <td>161</td>\n",
       "      <td>0</td>\n",
       "      <td>0.0</td>\n",
       "      <td>flat</td>\n",
       "      <td>1.0</td>\n",
       "      <td>reversable_defect</td>\n",
       "      <td>No_disease</td>\n",
       "    </tr>\n",
       "    <tr>\n",
       "      <th>4</th>\n",
       "      <td>62</td>\n",
       "      <td>Female</td>\n",
       "      <td>0</td>\n",
       "      <td>138</td>\n",
       "      <td>294</td>\n",
       "      <td>1</td>\n",
       "      <td>1</td>\n",
       "      <td>106</td>\n",
       "      <td>0</td>\n",
       "      <td>1.9</td>\n",
       "      <td>upsloping</td>\n",
       "      <td>3.0</td>\n",
       "      <td>2.0</td>\n",
       "      <td>No_disease</td>\n",
       "    </tr>\n",
       "    <tr>\n",
       "      <th>...</th>\n",
       "      <td>...</td>\n",
       "      <td>...</td>\n",
       "      <td>...</td>\n",
       "      <td>...</td>\n",
       "      <td>...</td>\n",
       "      <td>...</td>\n",
       "      <td>...</td>\n",
       "      <td>...</td>\n",
       "      <td>...</td>\n",
       "      <td>...</td>\n",
       "      <td>...</td>\n",
       "      <td>...</td>\n",
       "      <td>...</td>\n",
       "      <td>...</td>\n",
       "    </tr>\n",
       "    <tr>\n",
       "      <th>1020</th>\n",
       "      <td>59</td>\n",
       "      <td>Male</td>\n",
       "      <td>typical_angina</td>\n",
       "      <td>140</td>\n",
       "      <td>221</td>\n",
       "      <td>0</td>\n",
       "      <td>1</td>\n",
       "      <td>164</td>\n",
       "      <td>1</td>\n",
       "      <td>0.0</td>\n",
       "      <td>flat</td>\n",
       "      <td>0.0</td>\n",
       "      <td>2.0</td>\n",
       "      <td>Disease</td>\n",
       "    </tr>\n",
       "    <tr>\n",
       "      <th>1021</th>\n",
       "      <td>60</td>\n",
       "      <td>Male</td>\n",
       "      <td>0</td>\n",
       "      <td>125</td>\n",
       "      <td>258</td>\n",
       "      <td>0</td>\n",
       "      <td>0</td>\n",
       "      <td>141</td>\n",
       "      <td>1</td>\n",
       "      <td>2.8</td>\n",
       "      <td>upsloping</td>\n",
       "      <td>1.0</td>\n",
       "      <td>reversable_defect</td>\n",
       "      <td>No_disease</td>\n",
       "    </tr>\n",
       "    <tr>\n",
       "      <th>1022</th>\n",
       "      <td>47</td>\n",
       "      <td>Male</td>\n",
       "      <td>0</td>\n",
       "      <td>110</td>\n",
       "      <td>275</td>\n",
       "      <td>0</td>\n",
       "      <td>0</td>\n",
       "      <td>118</td>\n",
       "      <td>1</td>\n",
       "      <td>1.0</td>\n",
       "      <td>upsloping</td>\n",
       "      <td>1.0</td>\n",
       "      <td>2.0</td>\n",
       "      <td>No_disease</td>\n",
       "    </tr>\n",
       "    <tr>\n",
       "      <th>1023</th>\n",
       "      <td>50</td>\n",
       "      <td>Female</td>\n",
       "      <td>0</td>\n",
       "      <td>110</td>\n",
       "      <td>254</td>\n",
       "      <td>0</td>\n",
       "      <td>0</td>\n",
       "      <td>159</td>\n",
       "      <td>0</td>\n",
       "      <td>0.0</td>\n",
       "      <td>flat</td>\n",
       "      <td>0.0</td>\n",
       "      <td>2.0</td>\n",
       "      <td>Disease</td>\n",
       "    </tr>\n",
       "    <tr>\n",
       "      <th>1024</th>\n",
       "      <td>54</td>\n",
       "      <td>Male</td>\n",
       "      <td>0</td>\n",
       "      <td>120</td>\n",
       "      <td>188</td>\n",
       "      <td>0</td>\n",
       "      <td>1</td>\n",
       "      <td>113</td>\n",
       "      <td>0</td>\n",
       "      <td>1.4</td>\n",
       "      <td>upsloping</td>\n",
       "      <td>1.0</td>\n",
       "      <td>reversable_defect</td>\n",
       "      <td>No_disease</td>\n",
       "    </tr>\n",
       "  </tbody>\n",
       "</table>\n",
       "<p>1025 rows × 14 columns</p>\n",
       "</div>"
      ],
      "text/plain": [
       "      age     sex              cp  trestbps  chol  fbs  restecg  thalach  \\\n",
       "0      52    Male               0       125   212    0        1      168   \n",
       "1      53    Male               0       140   203    1        0      155   \n",
       "2      70    Male               0       145   174    0        1      125   \n",
       "3      61    Male               0       148   203    0        1      161   \n",
       "4      62  Female               0       138   294    1        1      106   \n",
       "...   ...     ...             ...       ...   ...  ...      ...      ...   \n",
       "1020   59    Male  typical_angina       140   221    0        1      164   \n",
       "1021   60    Male               0       125   258    0        0      141   \n",
       "1022   47    Male               0       110   275    0        0      118   \n",
       "1023   50  Female               0       110   254    0        0      159   \n",
       "1024   54    Male               0       120   188    0        1      113   \n",
       "\n",
       "      exang  oldpeak      slope   ca               thal      target  \n",
       "0         0      1.0       flat  2.0  reversable_defect  No_disease  \n",
       "1         1      3.1          0  0.0  reversable_defect  No_disease  \n",
       "2         1      2.6          0  0.0  reversable_defect  No_disease  \n",
       "3         0      0.0       flat  1.0  reversable_defect  No_disease  \n",
       "4         0      1.9  upsloping  3.0                2.0  No_disease  \n",
       "...     ...      ...        ...  ...                ...         ...  \n",
       "1020      1      0.0       flat  0.0                2.0     Disease  \n",
       "1021      1      2.8  upsloping  1.0  reversable_defect  No_disease  \n",
       "1022      1      1.0  upsloping  1.0                2.0  No_disease  \n",
       "1023      0      0.0       flat  0.0                2.0     Disease  \n",
       "1024      0      1.4  upsloping  1.0  reversable_defect  No_disease  \n",
       "\n",
       "[1025 rows x 14 columns]"
      ]
     },
     "execution_count": 22,
     "metadata": {},
     "output_type": "execute_result"
    }
   ],
   "source": [
    "df"
   ]
  },
  {
   "cell_type": "markdown",
   "id": "30ecb494",
   "metadata": {},
   "source": [
    "# *DATA VISUALIZATION*"
   ]
  },
  {
   "cell_type": "markdown",
   "id": "eb01adf8",
   "metadata": {},
   "source": [
    "Heart Diseases Population Percentage"
   ]
  },
  {
   "cell_type": "code",
   "execution_count": 23,
   "id": "9dceab45",
   "metadata": {},
   "outputs": [],
   "source": [
    "x= df['target'].value_counts()"
   ]
  },
  {
   "cell_type": "code",
   "execution_count": 24,
   "id": "295d2c8f",
   "metadata": {},
   "outputs": [
    {
     "data": {
      "image/png": "[encoded data removed]",
      "text/plain": [
       "<Figure size 720x504 with 1 Axes>"
      ]
     },
     "metadata": {},
     "output_type": "display_data"
    }
   ],
   "source": [
    "plt.figure(figsize=(10,7))\n",
    "plt.pie(x, labels=['No_disease','Disease'],autopct='%0.0f%%')\n",
    "plt.title('Heart Disease Population %', fontsize = 20)\n",
    "plt.show()"
   ]
  },
  {
   "cell_type": "markdown",
   "id": "0e85f31c",
   "metadata": {},
   "source": [
    "From the overall population, 49% people have heart disease and 51% people do not have heart disease "
   ]
  },
  {
   "cell_type": "code",
   "execution_count": 25,
   "id": "ef03475f",
   "metadata": {},
   "outputs": [
    {
     "data": {
      "image/png": "[encoded data removed]",
      "text/plain": [
       "<Figure size 1080x504 with 1 Axes>"
      ]
     },
     "metadata": {
      "needs_background": "light"
     },
     "output_type": "display_data"
    }
   ],
   "source": [
    "#Countplot of Popiulation Age\n",
    "\n",
    "plt.figure(figsize=(15,7))\n",
    "sns.countplot(x='age',data=df)\n",
    "plt.title('Population Age', fontsize= 17)\n",
    "plt.xlabel('Age', fontsize =15)\n",
    "plt.ylabel('Count',fontsize=15)\n",
    "plt.show()"
   ]
  },
  {
   "cell_type": "markdown",
   "id": "970708a9",
   "metadata": {},
   "source": [
    "By Observation, we can divide age into the 3 Age Ranges : 'elder_age','middle_age', 'young_age'."
   ]
  },
  {
   "cell_type": "markdown",
   "id": "63801aaa",
   "metadata": {},
   "source": [
    " Statistical Analysis"
   ]
  },
  {
   "cell_type": "code",
   "execution_count": 26,
   "id": "c1b453f2",
   "metadata": {},
   "outputs": [
    {
     "name": "stdout",
     "output_type": "stream",
     "text": [
      "Min age is = 29\n",
      "Max age is = 77\n",
      "Mean age is = 54.43414634146342\n"
     ]
    }
   ],
   "source": [
    "Min_age = df['age'].min()\n",
    "Max_age = df['age'].max()\n",
    "Mean_age = df['age'].mean()\n",
    "print(\"Min age is = {}\".format(Min_age))\n",
    "print(\"Max age is = {}\".format(Max_age))\n",
    "print(\"Mean age is = {}\".format(Mean_age))"
   ]
  },
  {
   "cell_type": "markdown",
   "id": "66c5a70f",
   "metadata": {},
   "source": [
    "Categorical Analysis"
   ]
  },
  {
   "cell_type": "code",
   "execution_count": 27,
   "id": "e1379868",
   "metadata": {},
   "outputs": [
    {
     "name": "stdout",
     "output_type": "stream",
     "text": [
      "Young Age =  57\n",
      "Middle Age =  419\n",
      "Elder Age =  519\n"
     ]
    }
   ],
   "source": [
    "Young_age = df[(df['age']>=29)&(df['age']<40)]\n",
    "Middle_age = df[(df['age']>=40)&(df['age']<55)]\n",
    "Elder_age = df[df['age']>55]\n",
    "print(\"Young Age = \",len(Young_age))\n",
    "print(\"Middle Age = \",len(Middle_age))\n",
    "print(\"Elder Age = \",len(Elder_age)) "
   ]
  },
  {
   "cell_type": "markdown",
   "id": "6ce7fba2",
   "metadata": {},
   "source": [
    "Converting numerical data into categorical data"
   ]
  },
  {
   "cell_type": "code",
   "execution_count": 28,
   "id": "4c6dd35d",
   "metadata": {},
   "outputs": [],
   "source": [
    "def age_range(row):\n",
    "    if row>=29 and row<40:\n",
    "        return 'Young_age'\n",
    "    elif row>=40 and row<55:\n",
    "        return 'Middle_age'\n",
    "    elif row>55:\n",
    "        return 'Elder_age'"
   ]
  },
  {
   "cell_type": "code",
   "execution_count": 29,
   "id": "aebba6f6",
   "metadata": {},
   "outputs": [],
   "source": [
    "df[\"Age_range\"] = df['age'].apply(age_range)\n"
   ]
  },
  {
   "cell_type": "code",
   "execution_count": 30,
   "id": "98e31be5",
   "metadata": {},
   "outputs": [
    {
     "data": {
      "text/html": [
       "<div>\n",
       "<style scoped>\n",
       "    .dataframe tbody tr th:only-of-type {\n",
       "        vertical-align: middle;\n",
       "    }\n",
       "\n",
       "    .dataframe tbody tr th {\n",
       "        vertical-align: top;\n",
       "    }\n",
       "\n",
       "    .dataframe thead th {\n",
       "        text-align: right;\n",
       "    }\n",
       "</style>\n",
       "<table border=\"1\" class=\"dataframe\">\n",
       "  <thead>\n",
       "    <tr style=\"text-align: right;\">\n",
       "      <th></th>\n",
       "      <th>age</th>\n",
       "      <th>sex</th>\n",
       "      <th>cp</th>\n",
       "      <th>trestbps</th>\n",
       "      <th>chol</th>\n",
       "      <th>fbs</th>\n",
       "      <th>restecg</th>\n",
       "      <th>thalach</th>\n",
       "      <th>exang</th>\n",
       "      <th>oldpeak</th>\n",
       "      <th>slope</th>\n",
       "      <th>ca</th>\n",
       "      <th>thal</th>\n",
       "      <th>target</th>\n",
       "      <th>Age_range</th>\n",
       "    </tr>\n",
       "  </thead>\n",
       "  <tbody>\n",
       "    <tr>\n",
       "      <th>0</th>\n",
       "      <td>52</td>\n",
       "      <td>Male</td>\n",
       "      <td>0</td>\n",
       "      <td>125</td>\n",
       "      <td>212</td>\n",
       "      <td>0</td>\n",
       "      <td>1</td>\n",
       "      <td>168</td>\n",
       "      <td>0</td>\n",
       "      <td>1.0</td>\n",
       "      <td>flat</td>\n",
       "      <td>2.0</td>\n",
       "      <td>reversable_defect</td>\n",
       "      <td>No_disease</td>\n",
       "      <td>Middle_age</td>\n",
       "    </tr>\n",
       "    <tr>\n",
       "      <th>1</th>\n",
       "      <td>53</td>\n",
       "      <td>Male</td>\n",
       "      <td>0</td>\n",
       "      <td>140</td>\n",
       "      <td>203</td>\n",
       "      <td>1</td>\n",
       "      <td>0</td>\n",
       "      <td>155</td>\n",
       "      <td>1</td>\n",
       "      <td>3.1</td>\n",
       "      <td>0</td>\n",
       "      <td>0.0</td>\n",
       "      <td>reversable_defect</td>\n",
       "      <td>No_disease</td>\n",
       "      <td>Middle_age</td>\n",
       "    </tr>\n",
       "    <tr>\n",
       "      <th>2</th>\n",
       "      <td>70</td>\n",
       "      <td>Male</td>\n",
       "      <td>0</td>\n",
       "      <td>145</td>\n",
       "      <td>174</td>\n",
       "      <td>0</td>\n",
       "      <td>1</td>\n",
       "      <td>125</td>\n",
       "      <td>1</td>\n",
       "      <td>2.6</td>\n",
       "      <td>0</td>\n",
       "      <td>0.0</td>\n",
       "      <td>reversable_defect</td>\n",
       "      <td>No_disease</td>\n",
       "      <td>Elder_age</td>\n",
       "    </tr>\n",
       "    <tr>\n",
       "      <th>3</th>\n",
       "      <td>61</td>\n",
       "      <td>Male</td>\n",
       "      <td>0</td>\n",
       "      <td>148</td>\n",
       "      <td>203</td>\n",
       "      <td>0</td>\n",
       "      <td>1</td>\n",
       "      <td>161</td>\n",
       "      <td>0</td>\n",
       "      <td>0.0</td>\n",
       "      <td>flat</td>\n",
       "      <td>1.0</td>\n",
       "      <td>reversable_defect</td>\n",
       "      <td>No_disease</td>\n",
       "      <td>Elder_age</td>\n",
       "    </tr>\n",
       "    <tr>\n",
       "      <th>4</th>\n",
       "      <td>62</td>\n",
       "      <td>Female</td>\n",
       "      <td>0</td>\n",
       "      <td>138</td>\n",
       "      <td>294</td>\n",
       "      <td>1</td>\n",
       "      <td>1</td>\n",
       "      <td>106</td>\n",
       "      <td>0</td>\n",
       "      <td>1.9</td>\n",
       "      <td>upsloping</td>\n",
       "      <td>3.0</td>\n",
       "      <td>2.0</td>\n",
       "      <td>No_disease</td>\n",
       "      <td>Elder_age</td>\n",
       "    </tr>\n",
       "  </tbody>\n",
       "</table>\n",
       "</div>"
      ],
      "text/plain": [
       "   age     sex cp  trestbps  chol  fbs  restecg  thalach  exang  oldpeak  \\\n",
       "0   52    Male  0       125   212    0        1      168      0      1.0   \n",
       "1   53    Male  0       140   203    1        0      155      1      3.1   \n",
       "2   70    Male  0       145   174    0        1      125      1      2.6   \n",
       "3   61    Male  0       148   203    0        1      161      0      0.0   \n",
       "4   62  Female  0       138   294    1        1      106      0      1.9   \n",
       "\n",
       "       slope   ca               thal      target   Age_range  \n",
       "0       flat  2.0  reversable_defect  No_disease  Middle_age  \n",
       "1          0  0.0  reversable_defect  No_disease  Middle_age  \n",
       "2          0  0.0  reversable_defect  No_disease   Elder_age  \n",
       "3       flat  1.0  reversable_defect  No_disease   Elder_age  \n",
       "4  upsloping  3.0                2.0  No_disease   Elder_age  "
      ]
     },
     "execution_count": 30,
     "metadata": {},
     "output_type": "execute_result"
    }
   ],
   "source": [
    "df.head()"
   ]
  },
  {
   "cell_type": "code",
   "execution_count": 31,
   "id": "bd872b46",
   "metadata": {},
   "outputs": [
    {
     "data": {
      "text/plain": [
       "Elder_age     519\n",
       "Middle_age    419\n",
       "Young_age      57\n",
       "Name: Age_range, dtype: int64"
      ]
     },
     "execution_count": 31,
     "metadata": {},
     "output_type": "execute_result"
    }
   ],
   "source": [
    "df[\"Age_range\"].value_counts()"
   ]
  },
  {
   "cell_type": "markdown",
   "id": "b6798a72",
   "metadata": {},
   "source": [
    "."
   ]
  },
  {
   "cell_type": "markdown",
   "id": "fb1778a1",
   "metadata": {},
   "source": [
    "Heart Disease based on age category"
   ]
  },
  {
   "cell_type": "code",
   "execution_count": 32,
   "id": "3e28a015",
   "metadata": {},
   "outputs": [
    {
     "data": {
      "image/png": "[encoded data removed]",
      "text/plain": [
       "<Figure size 504x360 with 1 Axes>"
      ]
     },
     "metadata": {
      "needs_background": "light"
     },
     "output_type": "display_data"
    }
   ],
   "source": [
    "plt.figure(figsize=(7,5))\n",
    "sns.countplot(x ='target',hue = 'Age_range',data = df, hue_order = [\"Elder_age\",\"Middle_age\",\"Young_age\"])\n",
    "plt.title('Heart disease based on age category', fontsize = 17)\n",
    "plt.xlabel('Heart Disease',fontsize =15)\n",
    "plt.ylabel(\"Counts\", fontsize = 15)\n",
    "plt.show()"
   ]
  },
  {
   "cell_type": "markdown",
   "id": "948f3be5",
   "metadata": {},
   "source": [
    "Elder Age People are most affected by Heart Disease & Young Age People are mostly FREE from any kind of Disease"
   ]
  },
  {
   "cell_type": "markdown",
   "id": "8835472d",
   "metadata": {},
   "source": [
    "."
   ]
  },
  {
   "cell_type": "markdown",
   "id": "d265b8c2",
   "metadata": {},
   "source": [
    "Heart Disease based in Gender"
   ]
  },
  {
   "cell_type": "code",
   "execution_count": 33,
   "id": "60db1d22",
   "metadata": {},
   "outputs": [
    {
     "data": {
      "image/png": "[encoded data removed]",
      "text/plain": [
       "<Figure size 504x360 with 1 Axes>"
      ]
     },
     "metadata": {
      "needs_background": "light"
     },
     "output_type": "display_data"
    }
   ],
   "source": [
    "plt.figure(figsize=(7,5))\n",
    "sns.countplot(x='target', hue = 'sex', data = df)\n",
    "plt.xlabel(\"Heart Disease\", fontsize=14)\n",
    "plt.title(\"Heart Disease based in Gender\", fontsize = 15)\n",
    "plt.show()"
   ]
  },
  {
   "cell_type": "markdown",
   "id": "18c949fc",
   "metadata": {},
   "source": [
    "Males are seen more prone to Heart Disease"
   ]
  },
  {
   "cell_type": "markdown",
   "id": "f924c817",
   "metadata": {},
   "source": [
    "# Analysis On Chest Pain"
   ]
  },
  {
   "cell_type": "markdown",
   "id": "7e8ad40b",
   "metadata": {},
   "source": [
    "Chest pain experienced based on presence or absence of heart disease :-"
   ]
  },
  {
   "cell_type": "code",
   "execution_count": 34,
   "id": "2068a2ac",
   "metadata": {},
   "outputs": [
    {
     "data": {
      "image/png": "[encoded data removed]",
      "text/plain": [
       "<Figure size 504x360 with 1 Axes>"
      ]
     },
     "metadata": {
      "needs_background": "light"
     },
     "output_type": "display_data"
    }
   ],
   "source": [
    "plt.figure(figsize=(7,5))\n",
    "sns.countplot(x='target',hue ='cp',data = df)\n",
    "plt.xlabel(\"Heart Disease\",fontsize=14)\n",
    "plt.title(\"Chest pain experienced based on presence/absence of disease\",fontsize=15)\n",
    "plt.show()"
   ]
  },
  {
   "cell_type": "code",
   "execution_count": 35,
   "id": "852def48",
   "metadata": {},
   "outputs": [],
   "source": [
    "df['cp'] = df['cp'].replace(0,'asymptomatic')"
   ]
  },
  {
   "cell_type": "code",
   "execution_count": 36,
   "id": "60826886",
   "metadata": {},
   "outputs": [
    {
     "data": {
      "text/plain": [
       "asymptomatic        497\n",
       "atypical_angina     284\n",
       "typical_angina      167\n",
       "non-anginal pain     77\n",
       "Name: cp, dtype: int64"
      ]
     },
     "execution_count": 36,
     "metadata": {},
     "output_type": "execute_result"
    }
   ],
   "source": [
    "df['cp'].value_counts()"
   ]
  },
  {
   "cell_type": "code",
   "execution_count": 37,
   "id": "385621db",
   "metadata": {},
   "outputs": [
    {
     "data": {
      "image/png": "[encoded data removed]",
      "text/plain": [
       "<Figure size 504x360 with 1 Axes>"
      ]
     },
     "metadata": {
      "needs_background": "light"
     },
     "output_type": "display_data"
    }
   ],
   "source": [
    "plt.figure(figsize=(7,5))\n",
    "sns.countplot(x='target',hue ='cp',data = df)\n",
    "plt.xlabel(\"Heart Disease\",fontsize=14)\n",
    "plt.title(\"Chest pain experienced based on presence/absence of disease\",fontsize=15)\n",
    "plt.show() "
   ]
  },
  {
   "cell_type": "markdown",
   "id": "3dff0450",
   "metadata": {},
   "source": [
    "People having atypical_angina have higher chance of heart disease"
   ]
  },
  {
   "cell_type": "markdown",
   "id": "d7e4d93b",
   "metadata": {},
   "source": [
    "."
   ]
  },
  {
   "cell_type": "markdown",
   "id": "4e9e0ca7",
   "metadata": {},
   "source": [
    "."
   ]
  },
  {
   "cell_type": "markdown",
   "id": "709d11fa",
   "metadata": {},
   "source": [
    "Chest Pain experienced based on Age"
   ]
  },
  {
   "cell_type": "code",
   "execution_count": 38,
   "id": "a2fdb5b8",
   "metadata": {},
   "outputs": [
    {
     "data": {
      "image/png": "[encoded data removed]",
      "text/plain": [
       "<Figure size 504x360 with 1 Axes>"
      ]
     },
     "metadata": {
      "needs_background": "light"
     },
     "output_type": "display_data"
    }
   ],
   "source": [
    "plt.figure(figsize=(7,5))\n",
    "sns.countplot(x = 'Age_range', hue = \"cp\",data=df, order = ['Young_age', 'Middle_age', 'Elder_age'])\n",
    "plt.xlabel('Age_Range',fontsize=(15))\n",
    "plt.show()"
   ]
  },
  {
   "cell_type": "markdown",
   "id": "5d7698f2",
   "metadata": {},
   "source": [
    "Higher Number of Asymptomatic Pain in ELderly Age"
   ]
  },
  {
   "cell_type": "markdown",
   "id": "b9479a99",
   "metadata": {},
   "source": [
    ".\n"
   ]
  },
  {
   "cell_type": "markdown",
   "id": "ac075cd4",
   "metadata": {},
   "source": [
    "."
   ]
  },
  {
   "cell_type": "markdown",
   "id": "033c5b39",
   "metadata": {},
   "source": [
    "."
   ]
  },
  {
   "cell_type": "markdown",
   "id": "1a9c40ea",
   "metadata": {},
   "source": [
    "Chest Pain Experienced Based on Gender"
   ]
  },
  {
   "cell_type": "code",
   "execution_count": 39,
   "id": "056ab1dc",
   "metadata": {},
   "outputs": [
    {
     "data": {
      "image/png": "[encoded data removed]",
      "text/plain": [
       "<Figure size 504x360 with 1 Axes>"
      ]
     },
     "metadata": {
      "needs_background": "light"
     },
     "output_type": "display_data"
    }
   ],
   "source": [
    "plt.figure(figsize=(7,5))\n",
    "sns.countplot(x = 'sex', hue='cp', data = df)\n",
    "plt.xlabel(\"Gender\", fontsize = 14)\n",
    "plt.title(\"Chest Pain Experienced Based On Gender\", fontsize = 15)\n",
    "plt.show()"
   ]
  },
  {
   "cell_type": "markdown",
   "id": "64697458",
   "metadata": {},
   "source": [
    "Higher number of men are suffering from Asymptomatic type of Chest Pain"
   ]
  },
  {
   "cell_type": "markdown",
   "id": "3dbada17",
   "metadata": {},
   "source": [
    "."
   ]
  },
  {
   "cell_type": "markdown",
   "id": "f048f6a5",
   "metadata": {},
   "source": [
    "."
   ]
  },
  {
   "cell_type": "markdown",
   "id": "8d723a48",
   "metadata": {},
   "source": [
    "# Analysis On Blood Pressure"
   ]
  },
  {
   "cell_type": "markdown",
   "id": "7ee7a505",
   "metadata": {},
   "source": [
    "Blood Pressure Based On Gender"
   ]
  },
  {
   "cell_type": "code",
   "execution_count": 40,
   "id": "e609bc36",
   "metadata": {},
   "outputs": [
    {
     "data": {
      "image/png": "[encoded data removed]",
      "text/plain": [
       "<Figure size 432x288 with 1 Axes>"
      ]
     },
     "metadata": {
      "needs_background": "light"
     },
     "output_type": "display_data"
    }
   ],
   "source": [
    "sns.barplot(x='sex', y = 'trestbps', data = df)\n",
    "plt.title(\"Blood Pressure Based On Gender\", fontsize = 15)\n",
    "plt.xlabel('Gender', fontsize = 14)\n",
    "plt.ylabel(\"Blood Pressure in mm/Hg\", fontsize = 12)\n",
    "plt.show()"
   ]
  },
  {
   "cell_type": "markdown",
   "id": "720934e6",
   "metadata": {},
   "source": [
    "Blood Pressure Rate is almost equal in Males and Females"
   ]
  },
  {
   "cell_type": "code",
   "execution_count": 41,
   "id": "2b8b6671",
   "metadata": {},
   "outputs": [
    {
     "data": {
      "image/png": "[encoded data removed]",
      "text/plain": [
       "<Figure size 432x288 with 1 Axes>"
      ]
     },
     "metadata": {
      "needs_background": "light"
     },
     "output_type": "display_data"
    }
   ],
   "source": [
    "# Blood pressure Based on presence/absence of Disease\n",
    "\n",
    "sns.barplot(x='target',y='trestbps', data=df)\n",
    "plt.title(\"Blood Pressure based on presence/absence of Disease\", fontsize = 15)\n",
    "plt.xlabel(\"Heart Disease\", fontsize = 14)\n",
    "plt.ylabel(\"Blood pressure(mm Hg)\", fontsize=12)\n",
    "plt.show()"
   ]
  },
  {
   "cell_type": "code",
   "execution_count": 42,
   "id": "875c7c10",
   "metadata": {},
   "outputs": [
    {
     "data": {
      "image/png": "[encoded data removed]",
      "text/plain": [
       "<Figure size 432x288 with 1 Axes>"
      ]
     },
     "metadata": {
      "needs_background": "light"
     },
     "output_type": "display_data"
    }
   ],
   "source": [
    "# Blood Pressure based on Age\n",
    "\n",
    "sns.lineplot(x='age',y='trestbps',data=df)\n",
    "plt.title(\"Blood Pressure VS Age\",fontsize=15)\n",
    "plt.xlabel(\"Age\", fontsize=14)\n",
    "plt.ylabel(\"Blood Pressure\",fontsize=14)\n",
    "plt.show()"
   ]
  },
  {
   "cell_type": "markdown",
   "id": "c3091a4f",
   "metadata": {},
   "source": [
    "Blood pressure increases between age of 50 to 60 and continue till 70"
   ]
  },
  {
   "cell_type": "markdown",
   "id": "a17b7032",
   "metadata": {},
   "source": [
    "# Analysis On Cholestrol Level\n"
   ]
  },
  {
   "cell_type": "code",
   "execution_count": 43,
   "id": "fd15c5a7",
   "metadata": {},
   "outputs": [
    {
     "data": {
      "image/png": "[encoded data removed]",
      "text/plain": [
       "<Figure size 432x288 with 1 Axes>"
      ]
     },
     "metadata": {
      "needs_background": "light"
     },
     "output_type": "display_data"
    }
   ],
   "source": [
    "# Cholestrol level based on Gender\n",
    "\n",
    "sns.barplot(x='sex',y='chol', data=df)\n",
    "plt.title(\"Cholestrol level based on Gender\", fontsize=15)\n",
    "plt.xlabel(\"Gender\", fontsize=14)\n",
    "plt.ylabel(\"Cholestrol\", fontsize=15)\n",
    "plt.show()"
   ]
  },
  {
   "cell_type": "markdown",
   "id": "24d32c7d",
   "metadata": {},
   "source": [
    "Cholestrol levels are higher in females than males"
   ]
  },
  {
   "cell_type": "code",
   "execution_count": 44,
   "id": "e327a840",
   "metadata": {},
   "outputs": [
    {
     "data": {
      "image/png": "[encoded data removed]",
      "text/plain": [
       "<Figure size 432x288 with 1 Axes>"
      ]
     },
     "metadata": {
      "needs_background": "light"
     },
     "output_type": "display_data"
    }
   ],
   "source": [
    "# Cholestrol level based on Presence/Absence of disease\n",
    "\n",
    "sns.barplot(x=\"target\", y='chol', data=df)\n",
    "plt.title(\"Cholestrol level based on presence/absence of disease\", fontsize=15)\n",
    "plt.xlabel(\"Heart Disease\", fontsize=14)\n",
    "plt.ylabel(\"Cholestrol Level\", fontsize=12)\n",
    "plt.show()\n"
   ]
  },
  {
   "cell_type": "code",
   "execution_count": 45,
   "id": "a180bb2d",
   "metadata": {},
   "outputs": [
    {
     "data": {
      "image/png": "[encoded data removed]",
      "text/plain": [
       "<Figure size 432x288 with 1 Axes>"
      ]
     },
     "metadata": {
      "needs_background": "light"
     },
     "output_type": "display_data"
    }
   ],
   "source": [
    "# Cholestrol level based on Age\n",
    "\n",
    "sns.lineplot(x='age',y='chol', data=df)\n",
    "plt.title(\"Cholestrol Level Based on Age\", fontsize=15)\n",
    "plt.xlabel(\"Age\", fontsize=14)\n",
    "plt.ylabel(\"Cholestrol Level\", fontsize=12)\n",
    "plt.show()"
   ]
  },
  {
   "cell_type": "markdown",
   "id": "190038f3",
   "metadata": {},
   "source": [
    "Cholestrol level increases after age 50"
   ]
  },
  {
   "cell_type": "markdown",
   "id": "4f110e0e",
   "metadata": {},
   "source": [
    "#    Analysis On ST Depression"
   ]
  },
  {
   "cell_type": "code",
   "execution_count": 46,
   "id": "643a10d1",
   "metadata": {},
   "outputs": [
    {
     "data": {
      "image/png": "[encoded data removed]",
      "text/plain": [
       "<Figure size 432x288 with 1 Axes>"
      ]
     },
     "metadata": {
      "needs_background": "light"
     },
     "output_type": "display_data"
    }
   ],
   "source": [
    "# ST Depression based on Gender\n",
    "\n",
    "sns.barplot(x='sex',y='oldpeak',data=df)\n",
    "plt.title(\"ST Depression based on Gender\")\n",
    "plt.xlabel(\"Gender\", fontsize=14)\n",
    "plt.ylabel(\"ST Depression\", fontsize=14)\n",
    "plt.show()"
   ]
  },
  {
   "cell_type": "markdown",
   "id": "b6219bc0",
   "metadata": {},
   "source": [
    "ST Depression is seen more in males than in females"
   ]
  },
  {
   "cell_type": "code",
   "execution_count": 47,
   "id": "90f522a9",
   "metadata": {},
   "outputs": [
    {
     "data": {
      "image/png": "[encoded data removed]",
      "text/plain": [
       "<Figure size 432x288 with 1 Axes>"
      ]
     },
     "metadata": {
      "needs_background": "light"
     },
     "output_type": "display_data"
    }
   ],
   "source": [
    "# ST depression based on presence/absence of disease\n",
    "\n",
    "sns.barplot(x=\"target\", y=\"oldpeak\",data=df)\n",
    "plt.title(\"ST depression based on presence/absence of disease\",fontsize=15)\n",
    "plt.xlabel(\"Heart Disease\",fontsize=14)\n",
    "plt.ylabel(\"ST depression\",fontsize=14)\n",
    "plt.show()"
   ]
  },
  {
   "cell_type": "markdown",
   "id": "dde7ade5",
   "metadata": {},
   "source": [
    "High ST depression does not have chances of heart disease\n"
   ]
  },
  {
   "cell_type": "code",
   "execution_count": 48,
   "id": "8ff6465c",
   "metadata": {},
   "outputs": [
    {
     "data": {
      "image/png": "[encoded data removed]",
      "text/plain": [
       "<Figure size 432x288 with 1 Axes>"
      ]
     },
     "metadata": {
      "needs_background": "light"
     },
     "output_type": "display_data"
    }
   ],
   "source": [
    "# ST depression based on age}\n",
    "sns.lineplot(x=\"age\", y =\"oldpeak\",data=df,color=\"r\")\n",
    "plt.title(\"ST depression based on age\", fontsize=17)\n",
    "plt.xlabel(\"age\",fontsize=15)\n",
    "plt.ylabel(\"ST depression\",fontsize=15)\n",
    "plt.show()"
   ]
  },
  {
   "cell_type": "markdown",
   "id": "01621c4b",
   "metadata": {},
   "source": [
    "ST depression is more in ages 30-40"
   ]
  },
  {
   "cell_type": "markdown",
   "id": "92ba89e9",
   "metadata": {},
   "source": [
    "# Analysis On Max Heart Rate"
   ]
  },
  {
   "cell_type": "code",
   "execution_count": 49,
   "id": "11081076",
   "metadata": {},
   "outputs": [
    {
     "data": {
      "image/png": "[encoded data removed]",
      "text/plain": [
       "<Figure size 432x288 with 1 Axes>"
      ]
     },
     "metadata": {
      "needs_background": "light"
     },
     "output_type": "display_data"
    }
   ],
   "source": [
    "# Max heart rate based on heart disease\n",
    "\n",
    "sns.barplot(x=\"target\",y='thalach',data=df,palette='viridis')\n",
    "plt.title('Max Heart rate based on heart disease',fontsize=17)\n",
    "plt.xlabel(\"Disease\",fontsize=15)\n",
    "plt.ylabel(\"Max Heart Rate\", fontsize=12)\n",
    "plt.show()"
   ]
  },
  {
   "cell_type": "markdown",
   "id": "11259023",
   "metadata": {},
   "source": [
    "Higher Blood Pressure Level results in higher chances of heart disease"
   ]
  },
  {
   "cell_type": "code",
   "execution_count": 50,
   "id": "93df5144",
   "metadata": {},
   "outputs": [
    {
     "data": {
      "image/png": "[encoded data removed]",
      "text/plain": [
       "<Figure size 432x288 with 1 Axes>"
      ]
     },
     "metadata": {
      "needs_background": "light"
     },
     "output_type": "display_data"
    }
   ],
   "source": [
    "# Max Heart rate based on age\n",
    "\n",
    "sns.lineplot(x='age',y='thalach',data=df,palette=\"plasma\")\n",
    "plt.title('Max heart rate based on age',fontsize=17)\n",
    "plt.xlabel('age',fontsize=15)\n",
    "plt.ylabel('Max Heart Rate', fontsize=12)\n",
    "plt.show()\n"
   ]
  },
  {
   "cell_type": "markdown",
   "id": "c55e8acd",
   "metadata": {},
   "source": [
    "# Analysis on fasting blood sugar"
   ]
  },
  {
   "cell_type": "code",
   "execution_count": 51,
   "id": "a22fc4af",
   "metadata": {},
   "outputs": [
    {
     "data": {
      "image/png": "[encoded data removed]",
      "text/plain": [
       "<Figure size 504x576 with 1 Axes>"
      ]
     },
     "metadata": {
      "needs_background": "light"
     },
     "output_type": "display_data"
    }
   ],
   "source": [
    "# Fasting blood sugar based on presence/absence of disease\n",
    "\n",
    "plt.figure(figsize=(7,8))\n",
    "sns.barplot(x='target',y='fbs',data=df)\n",
    "plt.title(\"Fasting blood sugar based on presence/absence of disease\",fontsize=15)\n",
    "plt.xlabel(\"Heart Disease\",fontsize=14)\n",
    "plt.show()"
   ]
  },
  {
   "cell_type": "markdown",
   "id": "d8494cf7",
   "metadata": {},
   "source": [
    "More chances of disease is seen in more fasting blood sugar levels"
   ]
  },
  {
   "cell_type": "code",
   "execution_count": 52,
   "id": "2df48096",
   "metadata": {},
   "outputs": [
    {
     "data": {
      "image/png": "[encoded data removed]",
      "text/plain": [
       "<Figure size 504x576 with 1 Axes>"
      ]
     },
     "metadata": {
      "needs_background": "light"
     },
     "output_type": "display_data"
    }
   ],
   "source": [
    "# Fasting blood sugar based on gender\n",
    "\n",
    "plt.figure(figsize=(7,8))\n",
    "sns.barplot(x='sex',y='fbs',data=df)\n",
    "plt.title(\"Fasting blood sugar based on gender\", fontsize=15)\n",
    "plt.xlabel(\"Gender\",fontsize=15)\n",
    "plt.ylabel(\"Fasting Blood Sugar Level\",fontsize=15)\n",
    "plt.show()"
   ]
  },
  {
   "cell_type": "markdown",
   "id": "b9a0f944",
   "metadata": {},
   "source": [
    "Males are generally seen to have higher level of Fasting Blood Sugar"
   ]
  },
  {
   "cell_type": "markdown",
   "id": "84b491c2",
   "metadata": {},
   "source": [
    "# Analysis on excercise induced Angina\n",
    "\n"
   ]
  },
  {
   "cell_type": "code",
   "execution_count": 53,
   "id": "61d62770",
   "metadata": {},
   "outputs": [
    {
     "data": {
      "image/png": "[encoded data removed]",
      "text/plain": [
       "<Figure size 504x576 with 1 Axes>"
      ]
     },
     "metadata": {
      "needs_background": "light"
     },
     "output_type": "display_data"
    }
   ],
   "source": [
    "# Exercise induced Angina Based on presence/absence of disease\n",
    "\n",
    "plt.figure(figsize=(7,8))\n",
    "sns.barplot(x=\"target\",y='exang',data=df)\n",
    "plt.title(\"Exercise induced agnia based on presence/absence of disease\",fontsize=15)\n",
    "plt.xlabel(\"Heart Disease\",fontsize=14)\n",
    "plt.show()\n",
    "\n"
   ]
  },
  {
   "cell_type": "code",
   "execution_count": 54,
   "id": "73ea8e69",
   "metadata": {},
   "outputs": [
    {
     "data": {
      "image/png": "[encoded data removed]",
      "text/plain": [
       "<Figure size 504x576 with 1 Axes>"
      ]
     },
     "metadata": {
      "needs_background": "light"
     },
     "output_type": "display_data"
    }
   ],
   "source": [
    "# Exercise induced agnia based on gender\n",
    "\n",
    "plt.figure(figsize=(7,8))\n",
    "sns.barplot(x='sex',y='exang',data=df)\n",
    "plt.title(\"Exercise Induced Agnia Based On Gender\", fontsize=15)\n",
    "plt.xlabel(\"Gender\",fontsize=14)\n",
    "plt.show()"
   ]
  },
  {
   "cell_type": "markdown",
   "id": "7865f337",
   "metadata": {},
   "source": [
    "It is seen that males have high level of Exercise Based Agnia"
   ]
  },
  {
   "cell_type": "markdown",
   "id": "85332b2b",
   "metadata": {},
   "source": [
    "# Heatmap"
   ]
  },
  {
   "cell_type": "code",
   "execution_count": 55,
   "id": "b13c2075",
   "metadata": {},
   "outputs": [
    {
     "data": {
      "text/plain": [
       "<AxesSubplot:>"
      ]
     },
     "execution_count": 55,
     "metadata": {},
     "output_type": "execute_result"
    },
    {
     "data": {
      "image/png": "[encoded data removed]",
      "text/plain": [
       "<Figure size 1152x648 with 2 Axes>"
      ]
     },
     "metadata": {
      "needs_background": "light"
     },
     "output_type": "display_data"
    }
   ],
   "source": [
    "plt.figure(figsize=(16,9))\n",
    "sns.heatmap(df.corr(),annot=True,linewidth=3)\n"
   ]
  },
  {
   "cell_type": "code",
   "execution_count": 56,
   "id": "439e710a",
   "metadata": {},
   "outputs": [
    {
     "data": {
      "text/html": [
       "<div>\n",
       "<style scoped>\n",
       "    .dataframe tbody tr th:only-of-type {\n",
       "        vertical-align: middle;\n",
       "    }\n",
       "\n",
       "    .dataframe tbody tr th {\n",
       "        vertical-align: top;\n",
       "    }\n",
       "\n",
       "    .dataframe thead th {\n",
       "        text-align: right;\n",
       "    }\n",
       "</style>\n",
       "<table border=\"1\" class=\"dataframe\">\n",
       "  <thead>\n",
       "    <tr style=\"text-align: right;\">\n",
       "      <th></th>\n",
       "      <th>age</th>\n",
       "      <th>sex</th>\n",
       "      <th>cp</th>\n",
       "      <th>trestbps</th>\n",
       "      <th>chol</th>\n",
       "      <th>fbs</th>\n",
       "      <th>restecg</th>\n",
       "      <th>thalach</th>\n",
       "      <th>exang</th>\n",
       "      <th>oldpeak</th>\n",
       "      <th>slope</th>\n",
       "      <th>ca</th>\n",
       "      <th>thal</th>\n",
       "      <th>target</th>\n",
       "      <th>Age_range</th>\n",
       "    </tr>\n",
       "  </thead>\n",
       "  <tbody>\n",
       "    <tr>\n",
       "      <th>0</th>\n",
       "      <td>52</td>\n",
       "      <td>Male</td>\n",
       "      <td>asymptomatic</td>\n",
       "      <td>125</td>\n",
       "      <td>212</td>\n",
       "      <td>0</td>\n",
       "      <td>1</td>\n",
       "      <td>168</td>\n",
       "      <td>0</td>\n",
       "      <td>1.0</td>\n",
       "      <td>flat</td>\n",
       "      <td>2.0</td>\n",
       "      <td>reversable_defect</td>\n",
       "      <td>No_disease</td>\n",
       "      <td>Middle_age</td>\n",
       "    </tr>\n",
       "    <tr>\n",
       "      <th>1</th>\n",
       "      <td>53</td>\n",
       "      <td>Male</td>\n",
       "      <td>asymptomatic</td>\n",
       "      <td>140</td>\n",
       "      <td>203</td>\n",
       "      <td>1</td>\n",
       "      <td>0</td>\n",
       "      <td>155</td>\n",
       "      <td>1</td>\n",
       "      <td>3.1</td>\n",
       "      <td>0</td>\n",
       "      <td>0.0</td>\n",
       "      <td>reversable_defect</td>\n",
       "      <td>No_disease</td>\n",
       "      <td>Middle_age</td>\n",
       "    </tr>\n",
       "    <tr>\n",
       "      <th>2</th>\n",
       "      <td>70</td>\n",
       "      <td>Male</td>\n",
       "      <td>asymptomatic</td>\n",
       "      <td>145</td>\n",
       "      <td>174</td>\n",
       "      <td>0</td>\n",
       "      <td>1</td>\n",
       "      <td>125</td>\n",
       "      <td>1</td>\n",
       "      <td>2.6</td>\n",
       "      <td>0</td>\n",
       "      <td>0.0</td>\n",
       "      <td>reversable_defect</td>\n",
       "      <td>No_disease</td>\n",
       "      <td>Elder_age</td>\n",
       "    </tr>\n",
       "    <tr>\n",
       "      <th>3</th>\n",
       "      <td>61</td>\n",
       "      <td>Male</td>\n",
       "      <td>asymptomatic</td>\n",
       "      <td>148</td>\n",
       "      <td>203</td>\n",
       "      <td>0</td>\n",
       "      <td>1</td>\n",
       "      <td>161</td>\n",
       "      <td>0</td>\n",
       "      <td>0.0</td>\n",
       "      <td>flat</td>\n",
       "      <td>1.0</td>\n",
       "      <td>reversable_defect</td>\n",
       "      <td>No_disease</td>\n",
       "      <td>Elder_age</td>\n",
       "    </tr>\n",
       "    <tr>\n",
       "      <th>4</th>\n",
       "      <td>62</td>\n",
       "      <td>Female</td>\n",
       "      <td>asymptomatic</td>\n",
       "      <td>138</td>\n",
       "      <td>294</td>\n",
       "      <td>1</td>\n",
       "      <td>1</td>\n",
       "      <td>106</td>\n",
       "      <td>0</td>\n",
       "      <td>1.9</td>\n",
       "      <td>upsloping</td>\n",
       "      <td>3.0</td>\n",
       "      <td>2.0</td>\n",
       "      <td>No_disease</td>\n",
       "      <td>Elder_age</td>\n",
       "    </tr>\n",
       "  </tbody>\n",
       "</table>\n",
       "</div>"
      ],
      "text/plain": [
       "   age     sex            cp  trestbps  chol  fbs  restecg  thalach  exang  \\\n",
       "0   52    Male  asymptomatic       125   212    0        1      168      0   \n",
       "1   53    Male  asymptomatic       140   203    1        0      155      1   \n",
       "2   70    Male  asymptomatic       145   174    0        1      125      1   \n",
       "3   61    Male  asymptomatic       148   203    0        1      161      0   \n",
       "4   62  Female  asymptomatic       138   294    1        1      106      0   \n",
       "\n",
       "   oldpeak      slope   ca               thal      target   Age_range  \n",
       "0      1.0       flat  2.0  reversable_defect  No_disease  Middle_age  \n",
       "1      3.1          0  0.0  reversable_defect  No_disease  Middle_age  \n",
       "2      2.6          0  0.0  reversable_defect  No_disease   Elder_age  \n",
       "3      0.0       flat  1.0  reversable_defect  No_disease   Elder_age  \n",
       "4      1.9  upsloping  3.0                2.0  No_disease   Elder_age  "
      ]
     },
     "execution_count": 56,
     "metadata": {},
     "output_type": "execute_result"
    }
   ],
   "source": [
    "df.head()"
   ]
  },
  {
   "cell_type": "markdown",
   "id": "79b07f73",
   "metadata": {},
   "source": [
    "From above observation we conclude"
   ]
  },
  {
   "cell_type": "markdown",
   "id": "15efa1c8",
   "metadata": {},
   "source": [
    "1. From the overall population, 49% people have heart disease and 51% people do not have heart disease\n",
    "2. Elder Age People are most affected by Heart Disease & Young Age People are mostly FREE from any kind of Disease\n",
    "3. Males are seen more prone to Heart Disease\n",
    "4. People having atypical angina have higher chance of heart disease\n",
    "5. Higher Number of Asymptomatic Pain is seen in Elderly Age people.\n",
    "6. Higher number of men are suffering from Asymptomatic type of Chest Pain\n",
    "7. Blood Pressure Rate is almost equal in Males and Females\n",
    "8. Blood pressure increases between age of 50 to 60 and continue till 70\n",
    "9. Cholestrol levels are higher in females than males\n",
    "10. Cholestrol level increases after age 50\n",
    "11. ST Depression is seen more in males than in females\n",
    "12. ST depression is more in ages 30-40\n",
    "13. Higher Blood Pressure Level results in higher chances of heart disease\n",
    "14. More chances of disease is seen in more fasting blood sugar levels\n",
    "15. Males are generally seen to have higher level of Fasting Blood Sugar \n",
    "16. It is seen that males have high level of Exercise Based Agnia"
   ]
  },
  {
   "cell_type": "code",
   "execution_count": 58,
   "id": "841b4456",
   "metadata": {},
   "outputs": [],
   "source": [
    "df.to_csv(r'C:\\Users\\HP\\Downloads\\Heart DIsease ANalysis\\new_heart_disease.csv',index=False)"
   ]
  },
  {
   "cell_type": "code",
   "execution_count": null,
   "id": "cee7b47d",
   "metadata": {},
   "outputs": [],
   "source": []
  }
 ],
 "metadata": {
  "kernelspec": {
   "display_name": "Python 3 (ipykernel)",
   "language": "python",
   "name": "python3"
  },
  "language_info": {
   "codemirror_mode": {
    "name": "ipython",
    "version": 3
   },
   "file_extension": ".py",
   "mimetype": "text/x-python",
   "name": "python",
   "nbconvert_exporter": "python",
   "pygments_lexer": "ipython3",
   "version": "3.9.7"
  }
 },
 "nbformat": 4,
 "nbformat_minor": 5
}
